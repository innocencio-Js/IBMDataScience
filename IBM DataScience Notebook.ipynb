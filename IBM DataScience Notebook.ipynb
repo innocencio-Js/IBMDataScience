{
 "cells": [
  {
   "cell_type": "markdown",
   "id": "a2d10cf8-c1a5-4f26-89e5-d9a35a6da028",
   "metadata": {
    "tags": []
   },
   "source": [
    "# IBM Data Science Notebook"
   ]
  },
  {
   "cell_type": "markdown",
   "id": "4eda201f-a007-4593-85a4-1acbda26accd",
   "metadata": {
    "tags": []
   },
   "source": [
    "This notebook is for the peer graded assignment. This is an introductry paragraph."
   ]
  },
  {
   "cell_type": "markdown",
   "id": "abc9e6dc-f46f-467b-8b9b-3997c3459ae1",
   "metadata": {
    "tags": []
   },
   "source": [
    "## Data Science Languages\n",
    "1. Python\n",
    "2. Julia\n",
    "3. R"
   ]
  },
  {
   "cell_type": "markdown",
   "id": "d6102011-f22b-43dc-82a8-54e8c982c801",
   "metadata": {},
   "source": [
    "## Data Science Libraries\n",
    "1. Scikit\n",
    "2. Pandas\n",
    "3. Tensorflow"
   ]
  },
  {
   "cell_type": "markdown",
   "id": "e6e47b75-1700-4d0f-bd0b-83513911f284",
   "metadata": {
    "tags": []
   },
   "source": [
    "## Data Science Tools\n",
    "\n",
    "| Tool          | Description                           |\n",
    "| ------------- | ------------------------------------- |\n",
    "| Jupyter Notebook | Interactive notebook environment   |\n",
    "| PowerBI       | Data visualization tool               |\n",
    "| Anaconda      | Python distribution with data science packages |"
   ]
  },
  {
   "cell_type": "markdown",
   "id": "965578bf-9015-4e16-a2f6-eb0ac8e884f8",
   "metadata": {},
   "source": [
    "## Arithmetic Expressions\n",
    "Arithmetic Expressions are mathematical operations, namely addition, substraction, multiplication and division."
   ]
  },
  {
   "cell_type": "markdown",
   "id": "d8708dd9-edfd-48c7-b9e0-10921dedb134",
   "metadata": {},
   "source": [
    "### Code Cell to Add and Multiply Numbers"
   ]
  },
  {
   "cell_type": "code",
   "execution_count": 10,
   "id": "05cfcfd6-963d-42cf-84a8-ad1eeff4342c",
   "metadata": {
    "tags": []
   },
   "outputs": [],
   "source": [
    "a=23\n",
    "b=12\n",
    "\n",
    "add = a+b\n",
    "mul = a*b"
   ]
  },
  {
   "cell_type": "code",
   "execution_count": 11,
   "id": "074473fe-02dc-4e92-b0b2-fa569efeda03",
   "metadata": {
    "tags": []
   },
   "outputs": [
    {
     "name": "stdout",
     "output_type": "stream",
     "text": [
      "Addition: 35  Multiplication: 276\n"
     ]
    }
   ],
   "source": [
    "print(\"Addition:\", add, \" Multiplication:\", mul)"
   ]
  },
  {
   "cell_type": "markdown",
   "id": "4c920f1b-dafe-45da-bbfb-7f337e5ec9ec",
   "metadata": {},
   "source": [
    "### Code Cell to turn Minutes to Hours"
   ]
  },
  {
   "cell_type": "code",
   "execution_count": 12,
   "id": "a877e649-8c23-46ac-96a2-5078ad85ccfd",
   "metadata": {
    "tags": []
   },
   "outputs": [
    {
     "name": "stdout",
     "output_type": "stream",
     "text": [
      "193 when converted to hours equal:  3.216666666666667\n"
     ]
    }
   ],
   "source": [
    "minutes=193\n",
    "hours=minutes/60\n",
    "print(minutes, \"when converted to hours equal: \", hours)"
   ]
  },
  {
   "cell_type": "markdown",
   "id": "57bd849b-f1af-48ca-879a-1399e4b3af49",
   "metadata": {},
   "source": [
    "## Markdown Cell to List Objective\n",
    "- Objective of course is to learn about all different tools used for data science.\n",
    "- Objective of the notebook is to get familiar with markdown to document code."
   ]
  },
  {
   "cell_type": "markdown",
   "id": "d8857299-2e7e-442c-b3f5-416c1b141cd4",
   "metadata": {},
   "source": [
    "Author: ***Jaspreet Singh***"
   ]
  },
  {
   "cell_type": "code",
   "execution_count": null,
   "id": "9ab84f13-873c-4e9c-8d3f-65220f53291c",
   "metadata": {},
   "outputs": [],
   "source": []
  }
 ],
 "metadata": {
  "kernelspec": {
   "display_name": "Python 3 (ipykernel)",
   "language": "python",
   "name": "python3"
  },
  "language_info": {
   "codemirror_mode": {
    "name": "ipython",
    "version": 3
   },
   "file_extension": ".py",
   "mimetype": "text/x-python",
   "name": "python",
   "nbconvert_exporter": "python",
   "pygments_lexer": "ipython3",
   "version": "3.11.2"
  }
 },
 "nbformat": 4,
 "nbformat_minor": 5
}
